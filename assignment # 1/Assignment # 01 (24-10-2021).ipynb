{
 "cells": [
  {
   "cell_type": "code",
   "execution_count": 1,
   "id": "ea872cda",
   "metadata": {},
   "outputs": [
    {
     "name": "stdout",
     "output_type": "stream",
     "text": [
      "Twinkle, twinkle, little star, \n",
      " \t How I wonder what you are! \n",
      " \t \t Up above the world so high, \n",
      " \t \t Like a diamond in the sky.\n",
      " Twinkle, twinkle, little star, \n",
      " \t  How I wonder what you are\n"
     ]
    }
   ],
   "source": [
    "\"\"\"\"1. Write a Python program to print the following string in a specific format (see the\n",
    "output).\n",
    "​\n",
    "Twinkle, twinkle, little star,\n",
    "How I wonder what you are!\n",
    "Up above the world so high,\n",
    "Like a diamond in the sky.\n",
    "​\n",
    "Twinkle, twinkle, little star,\n",
    "How I wonder what you are\"\"\"\n",
    "print(\"Twinkle, twinkle, little star, \\n \\t How I wonder what you are! \\n \\t \\t Up above the world so high, \\n \\t \\t Like a diamond in the sky.\\n Twinkle, twinkle, little star, \\n \\t  How I wonder what you are\")\n"
   ]
  },
  {
   "cell_type": "code",
   "execution_count": 2,
   "id": "2fe99138",
   "metadata": {},
   "outputs": [
    {
     "name": "stdout",
     "output_type": "stream",
     "text": [
      "system version\n",
      "sys.version\n",
      "version info\n",
      "sys.version_info\n"
     ]
    }
   ],
   "source": [
    "\"\"\"\"2. Write a Python program to get the Python version you are using\"\"\"\n",
    "# PYTHON VERSION\n",
    "import sys\n",
    "print(\"system version\");\n",
    "print(\"sys.version\");\n",
    "print(\"version info\");\n",
    "print(\"sys.version_info\");\n"
   ]
  },
  {
   "cell_type": "code",
   "execution_count": 4,
   "id": "32276a8c",
   "metadata": {},
   "outputs": [
    {
     "name": "stdout",
     "output_type": "stream",
     "text": [
      "current date time is:\n",
      "21-10-d 21:51:11\n"
     ]
    }
   ],
   "source": [
    "\"\"\"3. Write a Python program to display the current date and time. \"\"\"\n",
    "\n",
    "import datetime\n",
    "now = datetime.datetime.now()\n",
    "print(\"current date time is:\")\n",
    "print(now.strftime(\"%y-%m-d %H:%M:%S\"))"
   ]
  },
  {
   "cell_type": "code",
   "execution_count": 5,
   "id": "43dfc6a0",
   "metadata": {},
   "outputs": [
    {
     "name": "stdout",
     "output_type": "stream",
     "text": [
      "Enter the radius of the circle:15\n",
      "Area of the Circle is :706.8583470577034\n"
     ]
    }
   ],
   "source": [
    "\n",
    "\"\"\"\"4. Write a Python program which accepts the radius of a circle from the user and compute \n",
    "the area.\"\"\"\n",
    "\n",
    "import math\n",
    "radius = float(input(\"Enter the radius of the circle:\"))\n",
    "area = math.pi * radius * radius\n",
    "print(\"Area of the Circle is :{0}\".format(area))"
   ]
  },
  {
   "cell_type": "code",
   "execution_count": 11,
   "id": "e89ed152",
   "metadata": {},
   "outputs": [
    {
     "name": "stdout",
     "output_type": "stream",
     "text": [
      "Enter your first_nameMuhammad Shafi \n",
      "Enter your last_nameAhad\n",
      "Ahad Muhammad Shafi \n"
     ]
    }
   ],
   "source": [
    "\n",
    "\"\"\" 5. Write a Python program which accepts the user's first and last name and print them in \n",
    "reverse order with a space between them. \"\"\"\n",
    "first_name = input(\"Enter your first_name\");\n",
    "last_name = input(\"Enter your last_name\");\n",
    "print( last_name + \" \" + first_name)"
   ]
  },
  {
   "cell_type": "code",
   "execution_count": 12,
   "id": "97799073",
   "metadata": {},
   "outputs": [
    {
     "name": "stdout",
     "output_type": "stream",
     "text": [
      " Enter number 1: 15\n",
      " Enter number 2: 15\n",
      "15 + 15 = 30\n"
     ]
    }
   ],
   "source": [
    "\"\"\"6. Write a python program which takes two inputs from user and print them addition \n",
    "\"\"\"\n",
    "num1 = int(input (\" Enter number 1: \"))\n",
    "num2 = int(input (\" Enter number 2: \"))\n",
    "reslut = num1 + num2\n",
    "print(\"{0} + {1} = {2}\" .format(num1, num2, reslut))"
   ]
  },
  {
   "cell_type": "code",
   "execution_count": 20,
   "id": "19a947e6",
   "metadata": {},
   "outputs": [
    {
     "name": "stdout",
     "output_type": "stream",
     "text": [
      "Enter english marks80\n",
      "Enter islamiyat marks77\n",
      "Enter math marks65\n",
      "Enter sst marks48\n",
      "Enter urdu marks55\n",
      "B\n"
     ]
    }
   ],
   "source": [
    "\"\"\"7. Write a program which takes 5 inputs from user for different subject’s marks, total it \n",
    "and generate mark sheet using grades ? \"\"\"\n",
    "\n",
    "eng = int(input(\"Enter english marks\"));\n",
    "isl = int(input(\"Enter islamiyat marks\"));\n",
    "math = int(input(\"Enter math marks\"));\n",
    "sst = int(input(\"Enter sst marks\"));\n",
    "urdu = int(input(\"Enter urdu marks\"));\n",
    "total = 500;\n",
    "percent = (eng + isl + math + sst + urdu)/total*100;\n",
    "if percent < 100 and percent >= 80:\n",
    "    print(\"A+\");\n",
    "elif percent < 80 and percent >= 70:\n",
    "    print(\"A\");\n",
    "elif percent < 70 and percent >= 60:\n",
    "    print(\"B\");\n",
    "elif percent < 60 and percent >= 50:\n",
    "    print(\"C\");\n",
    "elif percent < 50 and percent >= 40:\n",
    "    print(\"D\");\n",
    "elif percent < 40 and percent >= 33:\n",
    "    print(\"E\");  \n",
    "else:\n",
    "    print(\"Fail\");"
   ]
  },
  {
   "cell_type": "code",
   "execution_count": 1,
   "id": "50b90cb4",
   "metadata": {},
   "outputs": [
    {
     "name": "stdout",
     "output_type": "stream",
     "text": [
      "Enter a number : 2\n",
      "sum of even number is :  2\n",
      "sum of odd number is :  1\n"
     ]
    }
   ],
   "source": [
    "\"\"\"8. Write a program which take input from user and identify that the given number is even \n",
    "or odd?\"\"\"\n",
    "num = int(input(\"Enter a number : \"))\n",
    "s_even = s_odd = 0\n",
    "x = 1\n",
    "while x <= num:\n",
    "    if x % 2 == 0:\n",
    "        s_even += x\n",
    "    else:\n",
    "        s_odd += x\n",
    "    x = x + 1\n",
    "print(\"sum of even number is : \", s_even)  \n",
    "print(\"sum of odd number is : \", s_odd)   \n"
   ]
  },
  {
   "cell_type": "code",
   "execution_count": 2,
   "id": "94453cbc",
   "metadata": {},
   "outputs": [
    {
     "name": "stdout",
     "output_type": "stream",
     "text": [
      "5\n"
     ]
    }
   ],
   "source": [
    "\"\"\"9. Write a program which print the length of the list? \n",
    "\"\"\"\n",
    "lst = [\"python\",5,4,3,2]\n",
    "count = 0\n",
    "for i in lst:\n",
    "    count += 1 \n",
    "print(count)"
   ]
  },
  {
   "cell_type": "code",
   "execution_count": 4,
   "id": "fb66535a",
   "metadata": {},
   "outputs": [
    {
     "name": "stdout",
     "output_type": "stream",
     "text": [
      "16\n"
     ]
    }
   ],
   "source": [
    "\"\"\"10.Write a Python program to sum all the numeric items in a list? \n",
    "\"\"\"\n",
    "def sum_list(items):\n",
    "    sum_numbers = 0\n",
    "    for x in items:\n",
    "        sum_numbers += x\n",
    "    return sum_numbers\n",
    "print(sum_list([5,2,9]))"
   ]
  },
  {
   "cell_type": "code",
   "execution_count": 5,
   "id": "57e811ad",
   "metadata": {},
   "outputs": [
    {
     "name": "stdout",
     "output_type": "stream",
     "text": [
      "Enter the length of  list:5\n",
      "Enter element:16\n",
      "Enter element:19\n",
      "Enter element:15\n",
      "Enter element:14\n",
      "Enter element:7\n",
      "[16, 19, 15, 14, 7]\n",
      "largest element of list is: 19\n"
     ]
    }
   ],
   "source": [
    "\"\"\"11.Write a Python program to get the largest number from a numeric list. \n",
    "\"\"\"\n",
    "l = []\n",
    "# enter the length of the list\n",
    "n = int(input(\"Enter the length of  list:\"))\n",
    "for i in range (1 , n + 1):\n",
    "    e = int(input(\"Enter element:\"))\n",
    "    l.append(e)\n",
    "print(l)\n",
    "l.sort()\n",
    "print(\"largest element of list is:\", l[n - 1])"
   ]
  },
  {
   "cell_type": "code",
   "execution_count": 6,
   "id": "3335bfc8",
   "metadata": {},
   "outputs": [
    {
     "name": "stdout",
     "output_type": "stream",
     "text": [
      "[1, 1, 2, 3]\n"
     ]
    }
   ],
   "source": [
    "\"\"\"12. Take a list, say for example this one: \n",
    " \n",
    "a = [1, 1, 2, 3, 5, 8, 13, 21, 34, 55, 89] \n",
    " Write a program that prints out all the elements of the list that are less than 5. \"\"\"\n",
    "a = [1, 1, 2, 3, 5, 8, 13, 21, 34, 55, 89]\n",
    "lst = []\n",
    "for i in a:\n",
    "    if i < 5:\n",
    "        lst.append(i)\n",
    "print(lst)"
   ]
  },
  {
   "cell_type": "code",
   "execution_count": null,
   "id": "2ae5ff1a",
   "metadata": {},
   "outputs": [],
   "source": []
  }
 ],
 "metadata": {
  "kernelspec": {
   "display_name": "Python 3",
   "language": "python",
   "name": "python3"
  },
  "language_info": {
   "codemirror_mode": {
    "name": "ipython",
    "version": 3
   },
   "file_extension": ".py",
   "mimetype": "text/x-python",
   "name": "python",
   "nbconvert_exporter": "python",
   "pygments_lexer": "ipython3",
   "version": "3.8.8"
  }
 },
 "nbformat": 4,
 "nbformat_minor": 5
}
